{
 "cells": [
  {
   "cell_type": "code",
   "execution_count": 77,
   "metadata": {},
   "outputs": [],
   "source": [
    "import pandas as pd\n"
   ]
  },
  {
   "cell_type": "code",
   "execution_count": 78,
   "metadata": {},
   "outputs": [
    {
     "data": {
      "text/html": [
       "<div>\n",
       "<style scoped>\n",
       "    .dataframe tbody tr th:only-of-type {\n",
       "        vertical-align: middle;\n",
       "    }\n",
       "\n",
       "    .dataframe tbody tr th {\n",
       "        vertical-align: top;\n",
       "    }\n",
       "\n",
       "    .dataframe thead th {\n",
       "        text-align: right;\n",
       "    }\n",
       "</style>\n",
       "<table border=\"1\" class=\"dataframe\">\n",
       "  <thead>\n",
       "    <tr style=\"text-align: right;\">\n",
       "      <th></th>\n",
       "      <th>Data</th>\n",
       "      <th>Valor</th>\n",
       "      <th>Identificador</th>\n",
       "      <th>Descrição</th>\n",
       "    </tr>\n",
       "  </thead>\n",
       "  <tbody>\n",
       "    <tr>\n",
       "      <th>0</th>\n",
       "      <td>01/10/2022</td>\n",
       "      <td>-613.23</td>\n",
       "      <td>63389623-c726-43d5-990f-d553f331b726</td>\n",
       "      <td>Pagamento de fatura</td>\n",
       "    </tr>\n",
       "    <tr>\n",
       "      <th>1</th>\n",
       "      <td>03/10/2022</td>\n",
       "      <td>1428.96</td>\n",
       "      <td>633ae748-46cd-4108-90a2-8b868184ae05</td>\n",
       "      <td>Transferência recebida pelo Pix - GABRIEL N BE...</td>\n",
       "    </tr>\n",
       "    <tr>\n",
       "      <th>2</th>\n",
       "      <td>03/10/2022</td>\n",
       "      <td>-37.13</td>\n",
       "      <td>633b12cf-e0a8-4546-87a8-5ef35e145d5d</td>\n",
       "      <td>Compra no débito - Pg *Leandro Guedes Sil</td>\n",
       "    </tr>\n",
       "    <tr>\n",
       "      <th>3</th>\n",
       "      <td>03/10/2022</td>\n",
       "      <td>-81.08</td>\n",
       "      <td>633b7e25-b319-462c-bbec-287774b43355</td>\n",
       "      <td>Compra no débito - Drogasil</td>\n",
       "    </tr>\n",
       "    <tr>\n",
       "      <th>4</th>\n",
       "      <td>04/10/2022</td>\n",
       "      <td>-30.00</td>\n",
       "      <td>633c1161-10e5-4ee1-8e95-b073cfb252c2</td>\n",
       "      <td>Compra no débito - Posto Bequimao</td>\n",
       "    </tr>\n",
       "  </tbody>\n",
       "</table>\n",
       "</div>"
      ],
      "text/plain": [
       "         Data    Valor                         Identificador  \\\n",
       "0  01/10/2022  -613.23  63389623-c726-43d5-990f-d553f331b726   \n",
       "1  03/10/2022  1428.96  633ae748-46cd-4108-90a2-8b868184ae05   \n",
       "2  03/10/2022   -37.13  633b12cf-e0a8-4546-87a8-5ef35e145d5d   \n",
       "3  03/10/2022   -81.08  633b7e25-b319-462c-bbec-287774b43355   \n",
       "4  04/10/2022   -30.00  633c1161-10e5-4ee1-8e95-b073cfb252c2   \n",
       "\n",
       "                                           Descrição  \n",
       "0                                Pagamento de fatura  \n",
       "1  Transferência recebida pelo Pix - GABRIEL N BE...  \n",
       "2          Compra no débito - Pg *Leandro Guedes Sil  \n",
       "3                        Compra no débito - Drogasil  \n",
       "4                  Compra no débito - Posto Bequimao  "
      ]
     },
     "execution_count": 78,
     "metadata": {},
     "output_type": "execute_result"
    }
   ],
   "source": [
    "nu_data = pd.read_csv('./csvs/NU_774252462_01OUT2022_31OUT2022.csv')\n",
    "nu_data.head()"
   ]
  },
  {
   "cell_type": "code",
   "execution_count": 79,
   "metadata": {},
   "outputs": [],
   "source": [
    "set_rows = {'Data': 'Date','Valor': 'Amount','Descrição': 'Item'}\n",
    "nu_data.rename(columns=set_rows, inplace=True)\n",
    "df2 = nu_data.assign(Tags=lambda x:'')\n"
   ]
  },
  {
   "cell_type": "code",
   "execution_count": 80,
   "metadata": {},
   "outputs": [],
   "source": [
    "from datetime import datetime\n",
    "import calendar\n",
    "df2['Month'] = df2.apply(lambda x:calendar.month_name[datetime.strptime(x['Date'], \"%d/%m/%Y\").month], axis=1)"
   ]
  },
  {
   "cell_type": "code",
   "execution_count": 81,
   "metadata": {},
   "outputs": [
    {
     "name": "stdout",
     "output_type": "stream",
     "text": [
      "          Date   Amount                         Identificador  \\\n",
      "0   01/10/2022  -613.23  63389623-c726-43d5-990f-d553f331b726   \n",
      "1   03/10/2022  1428.96  633ae748-46cd-4108-90a2-8b868184ae05   \n",
      "2   03/10/2022   -37.13  633b12cf-e0a8-4546-87a8-5ef35e145d5d   \n",
      "3   03/10/2022   -81.08  633b7e25-b319-462c-bbec-287774b43355   \n",
      "4   04/10/2022   -30.00  633c1161-10e5-4ee1-8e95-b073cfb252c2   \n",
      "..         ...      ...                                   ...   \n",
      "73  30/10/2022   -10.00  635e7c34-9a5c-4b69-9a88-d73250c11da2   \n",
      "74  30/10/2022   -19.90  635e8269-2f2a-4a85-972f-47b0ee262b2d   \n",
      "75  31/10/2022   -20.00  635ff09c-4229-4e1b-9fee-9de53711f263   \n",
      "76  31/10/2022  -398.03  636028c5-b7ec-42f6-81ab-4969be10b135   \n",
      "77  31/10/2022    20.00  636061be-e98e-40f6-8aed-f6e2b1e24cc3   \n",
      "\n",
      "                                                 Item Tags    Month  \n",
      "0                                 Pagamento de fatura       October  \n",
      "1   Transferência recebida pelo Pix - GABRIEL N BE...       October  \n",
      "2           Compra no débito - Pg *Leandro Guedes Sil       October  \n",
      "3                         Compra no débito - Drogasil       October  \n",
      "4                   Compra no débito - Posto Bequimao       October  \n",
      "..                                                ...  ...      ...  \n",
      "73          Compra no débito - Panificadora e Cafeter       October  \n",
      "74                      Compra no débito - Caroneloja       October  \n",
      "75  Transferência enviada pelo Pix - Kluivert Henr...       October  \n",
      "76  Transferência enviada pelo Pix - AMAZON.COM.BR...       October  \n",
      "77  Transferência Recebida - kluivert henrique da ...       October  \n",
      "\n",
      "[78 rows x 6 columns]\n"
     ]
    }
   ],
   "source": [
    "print(df2)"
   ]
  },
  {
   "cell_type": "code",
   "execution_count": 83,
   "metadata": {},
   "outputs": [
    {
     "data": {
      "text/plain": [
       "0      613.23\n",
       "2       37.13\n",
       "3       81.08\n",
       "4       30.00\n",
       "5     1000.00\n",
       "       ...   \n",
       "73      10.00\n",
       "74      19.90\n",
       "75      20.00\n",
       "76     398.03\n",
       "77      20.00\n",
       "Name: Amount, Length: 72, dtype: float64"
      ]
     },
     "execution_count": 83,
     "metadata": {},
     "output_type": "execute_result"
    }
   ],
   "source": [
    "df2 = df2[(df2['Amount'] < 70)]\n",
    "df2['Amount'].apply(lambda x: abs(x))\n"
   ]
  }
 ],
 "metadata": {
  "kernelspec": {
   "display_name": "venv",
   "language": "python",
   "name": "python3"
  },
  "language_info": {
   "codemirror_mode": {
    "name": "ipython",
    "version": 3
   },
   "file_extension": ".py",
   "mimetype": "text/x-python",
   "name": "python",
   "nbconvert_exporter": "python",
   "pygments_lexer": "ipython3",
   "version": "3.10.6 (main, Nov 14 2022, 16:10:14) [GCC 11.3.0]"
  },
  "orig_nbformat": 4,
  "vscode": {
   "interpreter": {
    "hash": "3defef3d4585bd716539c715ca89f1e5e1bd9931b5b929536bc7aceb8058dec9"
   }
  }
 },
 "nbformat": 4,
 "nbformat_minor": 2
}
